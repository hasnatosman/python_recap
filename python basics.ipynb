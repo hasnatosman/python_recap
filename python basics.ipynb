{
 "cells": [
  {
   "cell_type": "markdown",
   "id": "3390f717",
   "metadata": {},
   "source": [
    "### printing hello world as first programming is always fun !"
   ]
  },
  {
   "cell_type": "code",
   "execution_count": 2,
   "id": "be249670",
   "metadata": {},
   "outputs": [
    {
     "name": "stdout",
     "output_type": "stream",
     "text": [
      "Hello World\n"
     ]
    }
   ],
   "source": [
    "print('Hello World') "
   ]
  },
  {
   "cell_type": "code",
   "execution_count": 8,
   "id": "06211007",
   "metadata": {},
   "outputs": [
    {
     "name": "stdout",
     "output_type": "stream",
     "text": [
      " I wanna be a pythonsita\n"
     ]
    }
   ],
   "source": [
    "print(' I wanna be a pythonsita')"
   ]
  },
  {
   "cell_type": "markdown",
   "id": "487ead80",
   "metadata": {},
   "source": [
    "### Declaring variables in python ................\n"
   ]
  },
  {
   "cell_type": "code",
   "execution_count": 17,
   "id": "af4d5ca0",
   "metadata": {},
   "outputs": [],
   "source": [
    "name = 'Hasnat Osman'"
   ]
  },
  {
   "cell_type": "code",
   "execution_count": 18,
   "id": "9468c6f9",
   "metadata": {},
   "outputs": [
    {
     "data": {
      "text/plain": [
       "'Hasnat Osman'"
      ]
     },
     "execution_count": 18,
     "metadata": {},
     "output_type": "execute_result"
    }
   ],
   "source": [
    "name"
   ]
  },
  {
   "cell_type": "code",
   "execution_count": 19,
   "id": "2f3f371d",
   "metadata": {},
   "outputs": [],
   "source": [
    "age = 27"
   ]
  },
  {
   "cell_type": "code",
   "execution_count": 20,
   "id": "2a1f33bb",
   "metadata": {},
   "outputs": [
    {
     "data": {
      "text/plain": [
       "27"
      ]
     },
     "execution_count": 20,
     "metadata": {},
     "output_type": "execute_result"
    }
   ],
   "source": [
    "age"
   ]
  },
  {
   "cell_type": "code",
   "execution_count": 23,
   "id": "4fcc3d88",
   "metadata": {},
   "outputs": [],
   "source": [
    "first_name = \"hasnat\"\n",
    "student = False"
   ]
  },
  {
   "cell_type": "code",
   "execution_count": 24,
   "id": "06ce3203",
   "metadata": {},
   "outputs": [
    {
     "data": {
      "text/plain": [
       "'hasnat'"
      ]
     },
     "execution_count": 24,
     "metadata": {},
     "output_type": "execute_result"
    }
   ],
   "source": [
    "first_name"
   ]
  },
  {
   "cell_type": "code",
   "execution_count": 25,
   "id": "182acd0c",
   "metadata": {},
   "outputs": [
    {
     "data": {
      "text/plain": [
       "False"
      ]
     },
     "execution_count": 25,
     "metadata": {},
     "output_type": "execute_result"
    }
   ],
   "source": [
    "student"
   ]
  },
  {
   "cell_type": "code",
   "execution_count": 31,
   "id": "641e72ed",
   "metadata": {},
   "outputs": [
    {
     "name": "stdout",
     "output_type": "stream",
     "text": [
      "My first name is:  hasnat\n",
      "Full Name is:  Hasnat Osman\n",
      "I am 27 Years old!\n",
      "Am I a studet ? False\n"
     ]
    }
   ],
   "source": [
    "print('My first name is: ', first_name)\n",
    "print('Full Name is: ',name)\n",
    "print('I am ' + str(age) + ' Years old!')\n",
    "print('Am I a studet ?',student)"
   ]
  },
  {
   "cell_type": "markdown",
   "id": "660b1ed8",
   "metadata": {},
   "source": [
    "### Receiving input from keyboard....."
   ]
  },
  {
   "cell_type": "code",
   "execution_count": 32,
   "id": "69d1a3c8",
   "metadata": {},
   "outputs": [
    {
     "name": "stdout",
     "output_type": "stream",
     "text": [
      "What is your name?\n"
     ]
    }
   ],
   "source": [
    "print('What is your name?')"
   ]
  },
  {
   "cell_type": "code",
   "execution_count": 33,
   "id": "bda58785",
   "metadata": {},
   "outputs": [
    {
     "name": "stdout",
     "output_type": "stream",
     "text": [
      "Hasnat osman\n"
     ]
    },
    {
     "data": {
      "text/plain": [
       "'Hasnat osman'"
      ]
     },
     "execution_count": 33,
     "metadata": {},
     "output_type": "execute_result"
    }
   ],
   "source": [
    "input('')"
   ]
  },
  {
   "cell_type": "code",
   "execution_count": 34,
   "id": "1a5a822b",
   "metadata": {},
   "outputs": [
    {
     "name": "stdout",
     "output_type": "stream",
     "text": [
      "What is your name ?Hasnat\n"
     ]
    },
    {
     "data": {
      "text/plain": [
       "'Hasnat'"
      ]
     },
     "execution_count": 34,
     "metadata": {},
     "output_type": "execute_result"
    }
   ],
   "source": [
    "input('What is your name ?')"
   ]
  },
  {
   "cell_type": "code",
   "execution_count": 40,
   "id": "b2921f27",
   "metadata": {},
   "outputs": [
    {
     "name": "stdout",
     "output_type": "stream",
     "text": [
      "What is your name ?Hasnat\n"
     ]
    }
   ],
   "source": [
    "name = input(\"What is your name ?\")"
   ]
  },
  {
   "cell_type": "code",
   "execution_count": 42,
   "id": "4e7d1d31",
   "metadata": {},
   "outputs": [
    {
     "name": "stdout",
     "output_type": "stream",
     "text": [
      "Hello Hasnat\n"
     ]
    }
   ],
   "source": [
    "print(\"Hello \" + name)"
   ]
  },
  {
   "cell_type": "markdown",
   "id": "5741733d",
   "metadata": {},
   "source": [
    "### Type conversion................."
   ]
  },
  {
   "cell_type": "code",
   "execution_count": 43,
   "id": "a56bcefa",
   "metadata": {},
   "outputs": [
    {
     "name": "stdout",
     "output_type": "stream",
     "text": [
      "My birth year is: 1995\n"
     ]
    }
   ],
   "source": [
    "birth_year = input('My birth year is: ')"
   ]
  },
  {
   "cell_type": "code",
   "execution_count": 45,
   "id": "d025e820",
   "metadata": {},
   "outputs": [],
   "source": [
    "my_age = 2023 - int(birth_year)"
   ]
  },
  {
   "cell_type": "code",
   "execution_count": 46,
   "id": "8cad50a3",
   "metadata": {},
   "outputs": [
    {
     "data": {
      "text/plain": [
       "28"
      ]
     },
     "execution_count": 46,
     "metadata": {},
     "output_type": "execute_result"
    }
   ],
   "source": [
    "my_age"
   ]
  },
  {
   "cell_type": "code",
   "execution_count": 48,
   "id": "fd916f26",
   "metadata": {},
   "outputs": [
    {
     "data": {
      "text/plain": [
       "28"
      ]
     },
     "execution_count": 48,
     "metadata": {},
     "output_type": "execute_result"
    }
   ],
   "source": [
    "my_age"
   ]
  },
  {
   "cell_type": "code",
   "execution_count": 49,
   "id": "7f41973a",
   "metadata": {},
   "outputs": [
    {
     "name": "stdout",
     "output_type": "stream",
     "text": [
      " My birth Year is: 1995\n"
     ]
    }
   ],
   "source": [
    "birth_year = int(input(\" My birth Year is: \"))"
   ]
  },
  {
   "cell_type": "code",
   "execution_count": 50,
   "id": "9a369681",
   "metadata": {},
   "outputs": [],
   "source": [
    "my_age = 2023 - birth_year"
   ]
  },
  {
   "cell_type": "code",
   "execution_count": 51,
   "id": "baf8f10f",
   "metadata": {},
   "outputs": [
    {
     "data": {
      "text/plain": [
       "28"
      ]
     },
     "execution_count": 51,
     "metadata": {},
     "output_type": "execute_result"
    }
   ],
   "source": [
    "my_age"
   ]
  },
  {
   "cell_type": "code",
   "execution_count": 54,
   "id": "909854c8",
   "metadata": {},
   "outputs": [
    {
     "name": "stdout",
     "output_type": "stream",
     "text": [
      "20\n",
      "30\n"
     ]
    },
    {
     "data": {
      "text/plain": [
       "50"
      ]
     },
     "execution_count": 54,
     "metadata": {},
     "output_type": "execute_result"
    }
   ],
   "source": [
    "num1 = input()\n",
    "num2 =input()\n",
    "sum = int(num1) + int(num2)\n",
    "sum"
   ]
  },
  {
   "cell_type": "code",
   "execution_count": 55,
   "id": "74818904",
   "metadata": {},
   "outputs": [
    {
     "name": "stdout",
     "output_type": "stream",
     "text": [
      "20.5\n",
      "30.25\n"
     ]
    },
    {
     "data": {
      "text/plain": [
       "50.75"
      ]
     },
     "execution_count": 55,
     "metadata": {},
     "output_type": "execute_result"
    }
   ],
   "source": [
    "num1 = input()\n",
    "num2 =input()\n",
    "sum = float(num1) + float(num2)\n",
    "sum"
   ]
  },
  {
   "cell_type": "code",
   "execution_count": 56,
   "id": "1afa00fb",
   "metadata": {},
   "outputs": [
    {
     "name": "stdout",
     "output_type": "stream",
     "text": [
      "20\n",
      "30\n"
     ]
    },
    {
     "data": {
      "text/plain": [
       "'2030'"
      ]
     },
     "execution_count": 56,
     "metadata": {},
     "output_type": "execute_result"
    }
   ],
   "source": [
    "num1 = input()\n",
    "num2 =input()\n",
    "sum = num1 + num2\n",
    "sum"
   ]
  },
  {
   "cell_type": "markdown",
   "id": "b82381c6",
   "metadata": {},
   "source": [
    "### Stings in python................ "
   ]
  },
  {
   "cell_type": "code",
   "execution_count": 57,
   "id": "91a0fc77",
   "metadata": {},
   "outputs": [],
   "source": [
    "name = 'Hasnat Osman'"
   ]
  },
  {
   "cell_type": "code",
   "execution_count": 59,
   "id": "5a6ac586",
   "metadata": {},
   "outputs": [
    {
     "data": {
      "text/plain": [
       "'Hasnat osman'"
      ]
     },
     "execution_count": 59,
     "metadata": {},
     "output_type": "execute_result"
    }
   ],
   "source": [
    "name.capitalize()"
   ]
  },
  {
   "cell_type": "code",
   "execution_count": 60,
   "id": "1ab6f746",
   "metadata": {},
   "outputs": [
    {
     "data": {
      "text/plain": [
       "'HASNAT OSMAN'"
      ]
     },
     "execution_count": 60,
     "metadata": {},
     "output_type": "execute_result"
    }
   ],
   "source": [
    "name.upper()"
   ]
  },
  {
   "cell_type": "code",
   "execution_count": 61,
   "id": "7f5cfe3d",
   "metadata": {},
   "outputs": [
    {
     "data": {
      "text/plain": [
       "'hasnat osman'"
      ]
     },
     "execution_count": 61,
     "metadata": {},
     "output_type": "execute_result"
    }
   ],
   "source": [
    "name.lower()"
   ]
  },
  {
   "cell_type": "code",
   "execution_count": 63,
   "id": "ae004e17",
   "metadata": {},
   "outputs": [
    {
     "data": {
      "text/plain": [
       "'Hasnat Osman'"
      ]
     },
     "execution_count": 63,
     "metadata": {},
     "output_type": "execute_result"
    }
   ],
   "source": [
    "name.lstrip()"
   ]
  },
  {
   "cell_type": "code",
   "execution_count": 64,
   "id": "6eaf5bfe",
   "metadata": {},
   "outputs": [
    {
     "data": {
      "text/plain": [
       "<function str.ljust(width, fillchar=' ', /)>"
      ]
     },
     "execution_count": 64,
     "metadata": {},
     "output_type": "execute_result"
    }
   ],
   "source": [
    "name.ljust"
   ]
  },
  {
   "cell_type": "code",
   "execution_count": 65,
   "id": "36a026ed",
   "metadata": {},
   "outputs": [
    {
     "data": {
      "text/plain": [
       "'Hasnat Osman'"
      ]
     },
     "execution_count": 65,
     "metadata": {},
     "output_type": "execute_result"
    }
   ],
   "source": [
    "name"
   ]
  },
  {
   "cell_type": "code",
   "execution_count": 66,
   "id": "bcd5b7ee",
   "metadata": {},
   "outputs": [
    {
     "data": {
      "text/plain": [
       "7"
      ]
     },
     "execution_count": 66,
     "metadata": {},
     "output_type": "execute_result"
    }
   ],
   "source": [
    "name.find('O')"
   ]
  },
  {
   "cell_type": "code",
   "execution_count": 72,
   "id": "45ce1ddd",
   "metadata": {},
   "outputs": [
    {
     "data": {
      "text/plain": [
       "5"
      ]
     },
     "execution_count": 72,
     "metadata": {},
     "output_type": "execute_result"
    }
   ],
   "source": [
    "name.find(\"t\")"
   ]
  },
  {
   "cell_type": "code",
   "execution_count": 76,
   "id": "bc61d509",
   "metadata": {},
   "outputs": [
    {
     "data": {
      "text/plain": [
       "'H@sn@t Osm@n'"
      ]
     },
     "execution_count": 76,
     "metadata": {},
     "output_type": "execute_result"
    }
   ],
   "source": [
    "name.replace('a','@')"
   ]
  },
  {
   "cell_type": "code",
   "execution_count": 77,
   "id": "5b1b88e9",
   "metadata": {},
   "outputs": [
    {
     "data": {
      "text/plain": [
       "'Hasnat Osman'"
      ]
     },
     "execution_count": 77,
     "metadata": {},
     "output_type": "execute_result"
    }
   ],
   "source": [
    "name"
   ]
  },
  {
   "cell_type": "code",
   "execution_count": 78,
   "id": "2ad82c6d",
   "metadata": {},
   "outputs": [],
   "source": [
    "update_name = name.replace('a', '@')"
   ]
  },
  {
   "cell_type": "code",
   "execution_count": 79,
   "id": "36901525",
   "metadata": {},
   "outputs": [
    {
     "data": {
      "text/plain": [
       "'H@sn@t Osm@n'"
      ]
     },
     "execution_count": 79,
     "metadata": {},
     "output_type": "execute_result"
    }
   ],
   "source": [
    "update_name"
   ]
  },
  {
   "cell_type": "code",
   "execution_count": 80,
   "id": "4d1d7293",
   "metadata": {},
   "outputs": [
    {
     "data": {
      "text/plain": [
       "'Hasnat Osman'"
      ]
     },
     "execution_count": 80,
     "metadata": {},
     "output_type": "execute_result"
    }
   ],
   "source": [
    "name"
   ]
  },
  {
   "cell_type": "code",
   "execution_count": 81,
   "id": "24c165e4",
   "metadata": {},
   "outputs": [],
   "source": [
    "title = 'Python for beginners'"
   ]
  },
  {
   "cell_type": "code",
   "execution_count": 82,
   "id": "f4be55b9",
   "metadata": {},
   "outputs": [
    {
     "data": {
      "text/plain": [
       "'Python for beginners'"
      ]
     },
     "execution_count": 82,
     "metadata": {},
     "output_type": "execute_result"
    }
   ],
   "source": [
    "title"
   ]
  },
  {
   "cell_type": "code",
   "execution_count": 84,
   "id": "30f23bc7",
   "metadata": {},
   "outputs": [
    {
     "data": {
      "text/plain": [
       "True"
      ]
     },
     "execution_count": 84,
     "metadata": {},
     "output_type": "execute_result"
    }
   ],
   "source": [
    "\"Python\" in title"
   ]
  },
  {
   "cell_type": "markdown",
   "id": "0824693c",
   "metadata": {},
   "source": [
    " ### Arithmetic operators in python ....."
   ]
  },
  {
   "cell_type": "code",
   "execution_count": 85,
   "id": "651491de",
   "metadata": {},
   "outputs": [
    {
     "data": {
      "text/plain": [
       "6.666666666666667"
      ]
     },
     "execution_count": 85,
     "metadata": {},
     "output_type": "execute_result"
    }
   ],
   "source": [
    "20 /3"
   ]
  },
  {
   "cell_type": "code",
   "execution_count": 86,
   "id": "535fb95a",
   "metadata": {},
   "outputs": [
    {
     "data": {
      "text/plain": [
       "6"
      ]
     },
     "execution_count": 86,
     "metadata": {},
     "output_type": "execute_result"
    }
   ],
   "source": [
    "20 // 3"
   ]
  },
  {
   "cell_type": "code",
   "execution_count": 87,
   "id": "077e8ab7",
   "metadata": {},
   "outputs": [
    {
     "data": {
      "text/plain": [
       "2"
      ]
     },
     "execution_count": 87,
     "metadata": {},
     "output_type": "execute_result"
    }
   ],
   "source": [
    "20 % 3"
   ]
  },
  {
   "cell_type": "code",
   "execution_count": 88,
   "id": "0363e4db",
   "metadata": {},
   "outputs": [
    {
     "data": {
      "text/plain": [
       "50"
      ]
     },
     "execution_count": 88,
     "metadata": {},
     "output_type": "execute_result"
    }
   ],
   "source": [
    "20 + 30"
   ]
  },
  {
   "cell_type": "code",
   "execution_count": 89,
   "id": "ab1c1736",
   "metadata": {},
   "outputs": [
    {
     "data": {
      "text/plain": [
       "27"
      ]
     },
     "execution_count": 89,
     "metadata": {},
     "output_type": "execute_result"
    }
   ],
   "source": [
    "50 - 23"
   ]
  },
  {
   "cell_type": "code",
   "execution_count": 90,
   "id": "a9c597a8",
   "metadata": {},
   "outputs": [
    {
     "data": {
      "text/plain": [
       "15"
      ]
     },
     "execution_count": 90,
     "metadata": {},
     "output_type": "execute_result"
    }
   ],
   "source": [
    "5 * 3"
   ]
  },
  {
   "cell_type": "code",
   "execution_count": 91,
   "id": "10e42acf",
   "metadata": {},
   "outputs": [
    {
     "data": {
      "text/plain": [
       "64"
      ]
     },
     "execution_count": 91,
     "metadata": {},
     "output_type": "execute_result"
    }
   ],
   "source": [
    " 4 ** 3"
   ]
  },
  {
   "cell_type": "code",
   "execution_count": 92,
   "id": "bc9511fb",
   "metadata": {},
   "outputs": [
    {
     "data": {
      "text/plain": [
       "16"
      ]
     },
     "execution_count": 92,
     "metadata": {},
     "output_type": "execute_result"
    }
   ],
   "source": [
    "10 + 2 * 3"
   ]
  },
  {
   "cell_type": "code",
   "execution_count": 93,
   "id": "9a3f3304",
   "metadata": {},
   "outputs": [
    {
     "data": {
      "text/plain": [
       "36"
      ]
     },
     "execution_count": 93,
     "metadata": {},
     "output_type": "execute_result"
    }
   ],
   "source": [
    "(10 + 2) * 3"
   ]
  },
  {
   "cell_type": "code",
   "execution_count": 94,
   "id": "cf67f9b3",
   "metadata": {},
   "outputs": [
    {
     "data": {
      "text/plain": [
       "True"
      ]
     },
     "execution_count": 94,
     "metadata": {},
     "output_type": "execute_result"
    }
   ],
   "source": [
    "5 > 3"
   ]
  },
  {
   "cell_type": "code",
   "execution_count": 95,
   "id": "a0e7821b",
   "metadata": {},
   "outputs": [
    {
     "data": {
      "text/plain": [
       "False"
      ]
     },
     "execution_count": 95,
     "metadata": {},
     "output_type": "execute_result"
    }
   ],
   "source": [
    "5 < 3"
   ]
  },
  {
   "cell_type": "markdown",
   "id": "75b19961",
   "metadata": {},
   "source": [
    "### Logical Operators...................................... "
   ]
  },
  {
   "cell_type": "code",
   "execution_count": 96,
   "id": "34dc9efc",
   "metadata": {},
   "outputs": [],
   "source": [
    "price = 100"
   ]
  },
  {
   "cell_type": "code",
   "execution_count": 97,
   "id": "52ec56fc",
   "metadata": {},
   "outputs": [
    {
     "data": {
      "text/plain": [
       "True"
      ]
     },
     "execution_count": 97,
     "metadata": {},
     "output_type": "execute_result"
    }
   ],
   "source": [
    "price > 50 and price < 500"
   ]
  },
  {
   "cell_type": "code",
   "execution_count": 98,
   "id": "3cc71583",
   "metadata": {},
   "outputs": [
    {
     "data": {
      "text/plain": [
       "True"
      ]
     },
     "execution_count": 98,
     "metadata": {},
     "output_type": "execute_result"
    }
   ],
   "source": [
    "price > 500 or price < 500"
   ]
  },
  {
   "cell_type": "code",
   "execution_count": 100,
   "id": "0422b0ef",
   "metadata": {},
   "outputs": [
    {
     "data": {
      "text/plain": [
       "True"
      ]
     },
     "execution_count": 100,
     "metadata": {},
     "output_type": "execute_result"
    }
   ],
   "source": [
    "price <= 400 and price >= 30"
   ]
  },
  {
   "cell_type": "code",
   "execution_count": 102,
   "id": "b81eafcf",
   "metadata": {},
   "outputs": [
    {
     "data": {
      "text/plain": [
       "True"
      ]
     },
     "execution_count": 102,
     "metadata": {},
     "output_type": "execute_result"
    }
   ],
   "source": [
    "not price == 50"
   ]
  },
  {
   "cell_type": "code",
   "execution_count": 103,
   "id": "fec208b8",
   "metadata": {},
   "outputs": [
    {
     "data": {
      "text/plain": [
       "False"
      ]
     },
     "execution_count": 103,
     "metadata": {},
     "output_type": "execute_result"
    }
   ],
   "source": [
    "not price > 40"
   ]
  },
  {
   "cell_type": "code",
   "execution_count": 104,
   "id": "80c18732",
   "metadata": {},
   "outputs": [
    {
     "data": {
      "text/plain": [
       "True"
      ]
     },
     "execution_count": 104,
     "metadata": {},
     "output_type": "execute_result"
    }
   ],
   "source": [
    "not price < 40"
   ]
  },
  {
   "cell_type": "markdown",
   "id": "c28150ea",
   "metadata": {},
   "source": [
    "### if statement"
   ]
  },
  {
   "cell_type": "code",
   "execution_count": 105,
   "id": "2fc39e93",
   "metadata": {},
   "outputs": [
    {
     "name": "stdout",
     "output_type": "stream",
     "text": [
      "It's a hot day !\n"
     ]
    }
   ],
   "source": [
    "temp = 35\n",
    "if temp > 30:\n",
    "    print(\"It's a hot day !\")"
   ]
  },
  {
   "cell_type": "code",
   "execution_count": 107,
   "id": "408ab31e",
   "metadata": {},
   "outputs": [
    {
     "name": "stdout",
     "output_type": "stream",
     "text": [
      "Seems cool!\n"
     ]
    }
   ],
   "source": [
    "temp = 25\n",
    "if temp > 30:\n",
    "    print(\"It's a hot day !\")\n",
    "else:\n",
    "    print('Seems cool!')"
   ]
  },
  {
   "cell_type": "code",
   "execution_count": 117,
   "id": "1e713c63",
   "metadata": {},
   "outputs": [
    {
     "name": "stdout",
     "output_type": "stream",
     "text": [
      "It's so cool!\n"
     ]
    }
   ],
   "source": [
    "temp = 20\n",
    "if temp >= 30:\n",
    "    print(\"It's a hot day !\")\n",
    "elif temp <= 20:\n",
    "    print(\"It's so cool!\")\n",
    "else:\n",
    "    print('Seems okay!')"
   ]
  },
  {
   "cell_type": "markdown",
   "id": "da8a9a4c",
   "metadata": {},
   "source": [
    "### Exercise.............................................!"
   ]
  },
  {
   "cell_type": "code",
   "execution_count": 122,
   "id": "746a5099",
   "metadata": {},
   "outputs": [
    {
     "name": "stdout",
     "output_type": "stream",
     "text": [
      "Weight: 76\n",
      "(K)g or (L)bs: k\n",
      "Weight in kgs:34.2\n"
     ]
    }
   ],
   "source": [
    "weight = int(input(\"Weight: \"))\n",
    "unit = input(\"(K)g or (L)bs: \")\n",
    "\n",
    "if unit.upper == \"K\":\n",
    "    converted =  weight / 0.45\n",
    "    print(\"Weight in Lbs :\" + str(converted))\n",
    "    \n",
    "else:\n",
    "    converted = weight * 0.45\n",
    "    print(\"Weight in kgs:\" + str(converted))\n"
   ]
  },
  {
   "cell_type": "markdown",
   "id": "30d9f8ec",
   "metadata": {},
   "source": [
    "### While Loops in python .............."
   ]
  },
  {
   "cell_type": "code",
   "execution_count": 125,
   "id": "97b0deee",
   "metadata": {},
   "outputs": [
    {
     "name": "stdout",
     "output_type": "stream",
     "text": [
      "1\n",
      "2\n",
      "3\n",
      "4\n",
      "5\n"
     ]
    }
   ],
   "source": [
    "i = 1\n",
    "while i <= 5:\n",
    "    print(i)\n",
    "    i = i + 1"
   ]
  },
  {
   "cell_type": "code",
   "execution_count": 128,
   "id": "8211e4e2",
   "metadata": {},
   "outputs": [
    {
     "name": "stdout",
     "output_type": "stream",
     "text": [
      "5\n",
      "4\n",
      "3\n",
      "2\n",
      "1\n"
     ]
    }
   ],
   "source": [
    "i = 5\n",
    "while i > 0:\n",
    "    print(i)\n",
    "    i -= 1"
   ]
  },
  {
   "cell_type": "code",
   "execution_count": 130,
   "id": "5dd075c7",
   "metadata": {
    "scrolled": true
   },
   "outputs": [
    {
     "name": "stdout",
     "output_type": "stream",
     "text": [
      "*\n",
      "**\n",
      "***\n",
      "****\n",
      "*****\n"
     ]
    }
   ],
   "source": [
    "i = 1\n",
    "while i <= 5:\n",
    "    print(i * \"*\")\n",
    "    i = i + 1"
   ]
  },
  {
   "cell_type": "markdown",
   "id": "6b683c61",
   "metadata": {},
   "source": [
    "### List in python ..........................."
   ]
  },
  {
   "cell_type": "code",
   "execution_count": 131,
   "id": "bd19c855",
   "metadata": {},
   "outputs": [],
   "source": [
    "names = ['Kazi','Showrab','Santo', 'Sam']"
   ]
  },
  {
   "cell_type": "code",
   "execution_count": 132,
   "id": "960e4b97",
   "metadata": {},
   "outputs": [
    {
     "data": {
      "text/plain": [
       "['Kazi', 'Showrab', 'Santo', 'Sam']"
      ]
     },
     "execution_count": 132,
     "metadata": {},
     "output_type": "execute_result"
    }
   ],
   "source": [
    "names"
   ]
  },
  {
   "cell_type": "code",
   "execution_count": 133,
   "id": "80b19e44",
   "metadata": {},
   "outputs": [
    {
     "data": {
      "text/plain": [
       "'a'"
      ]
     },
     "execution_count": 133,
     "metadata": {},
     "output_type": "execute_result"
    }
   ],
   "source": [
    "name[1]"
   ]
  },
  {
   "cell_type": "code",
   "execution_count": 134,
   "id": "3115ac44",
   "metadata": {},
   "outputs": [
    {
     "data": {
      "text/plain": [
       "'Showrab'"
      ]
     },
     "execution_count": 134,
     "metadata": {},
     "output_type": "execute_result"
    }
   ],
   "source": [
    "names[1]"
   ]
  },
  {
   "cell_type": "code",
   "execution_count": 135,
   "id": "0c443b55",
   "metadata": {},
   "outputs": [
    {
     "data": {
      "text/plain": [
       "'Sam'"
      ]
     },
     "execution_count": 135,
     "metadata": {},
     "output_type": "execute_result"
    }
   ],
   "source": [
    "names[-1]"
   ]
  },
  {
   "cell_type": "code",
   "execution_count": 136,
   "id": "af38b8bf",
   "metadata": {},
   "outputs": [
    {
     "data": {
      "text/plain": [
       "'Santo'"
      ]
     },
     "execution_count": 136,
     "metadata": {},
     "output_type": "execute_result"
    }
   ],
   "source": [
    "names[-2]"
   ]
  },
  {
   "cell_type": "code",
   "execution_count": 137,
   "id": "683aff85",
   "metadata": {},
   "outputs": [],
   "source": [
    "names[-1] = 'Hasnat'"
   ]
  },
  {
   "cell_type": "code",
   "execution_count": 138,
   "id": "b9c13093",
   "metadata": {},
   "outputs": [
    {
     "data": {
      "text/plain": [
       "['Kazi', 'Showrab', 'Santo', 'Hasnat']"
      ]
     },
     "execution_count": 138,
     "metadata": {},
     "output_type": "execute_result"
    }
   ],
   "source": [
    "names"
   ]
  },
  {
   "cell_type": "code",
   "execution_count": 139,
   "id": "a4bcde1d",
   "metadata": {},
   "outputs": [],
   "source": [
    "numbers = [1,2,3,4,5]"
   ]
  },
  {
   "cell_type": "code",
   "execution_count": 140,
   "id": "dea98d6f",
   "metadata": {},
   "outputs": [
    {
     "data": {
      "text/plain": [
       "[1, 2, 3, 4, 5]"
      ]
     },
     "execution_count": 140,
     "metadata": {},
     "output_type": "execute_result"
    }
   ],
   "source": [
    "numbers"
   ]
  },
  {
   "cell_type": "code",
   "execution_count": 141,
   "id": "9a7af1e8",
   "metadata": {},
   "outputs": [],
   "source": [
    "numbers.append(6)"
   ]
  },
  {
   "cell_type": "code",
   "execution_count": 142,
   "id": "d54687c0",
   "metadata": {},
   "outputs": [
    {
     "data": {
      "text/plain": [
       "[1, 2, 3, 4, 5, 6]"
      ]
     },
     "execution_count": 142,
     "metadata": {},
     "output_type": "execute_result"
    }
   ],
   "source": [
    "numbers"
   ]
  },
  {
   "cell_type": "code",
   "execution_count": 143,
   "id": "90d6e68f",
   "metadata": {},
   "outputs": [],
   "source": [
    "numbers.insert(0,0)"
   ]
  },
  {
   "cell_type": "code",
   "execution_count": 144,
   "id": "bcf5540c",
   "metadata": {},
   "outputs": [
    {
     "data": {
      "text/plain": [
       "[0, 1, 2, 3, 4, 5, 6]"
      ]
     },
     "execution_count": 144,
     "metadata": {},
     "output_type": "execute_result"
    }
   ],
   "source": [
    "numbers"
   ]
  },
  {
   "cell_type": "markdown",
   "id": "ece9cdad",
   "metadata": {},
   "source": [
    "### For loops......................"
   ]
  },
  {
   "cell_type": "code",
   "execution_count": 145,
   "id": "3a86616b",
   "metadata": {},
   "outputs": [
    {
     "name": "stdout",
     "output_type": "stream",
     "text": [
      "0\n",
      "1\n",
      "2\n",
      "3\n",
      "4\n",
      "5\n",
      "6\n"
     ]
    }
   ],
   "source": [
    "for item in numbers:\n",
    "    print(item)"
   ]
  },
  {
   "cell_type": "code",
   "execution_count": 146,
   "id": "34346fba",
   "metadata": {},
   "outputs": [
    {
     "name": "stdout",
     "output_type": "stream",
     "text": [
      "Kazi\n",
      "Showrab\n",
      "Santo\n",
      "Hasnat\n"
     ]
    }
   ],
   "source": [
    "for i in names:\n",
    "    print(i)"
   ]
  },
  {
   "cell_type": "markdown",
   "id": "22c52925",
   "metadata": {},
   "source": [
    "### Range Function ........... "
   ]
  },
  {
   "cell_type": "code",
   "execution_count": 148,
   "id": "f7cf22e3",
   "metadata": {},
   "outputs": [
    {
     "data": {
      "text/plain": [
       "range(0, 10)"
      ]
     },
     "execution_count": 148,
     "metadata": {},
     "output_type": "execute_result"
    }
   ],
   "source": [
    "range(10)"
   ]
  },
  {
   "cell_type": "code",
   "execution_count": 149,
   "id": "33db898c",
   "metadata": {},
   "outputs": [
    {
     "name": "stdout",
     "output_type": "stream",
     "text": [
      "0\n",
      "1\n",
      "2\n",
      "3\n",
      "4\n"
     ]
    }
   ],
   "source": [
    "for i in range(5):\n",
    "    print(i)"
   ]
  },
  {
   "cell_type": "code",
   "execution_count": 153,
   "id": "5971ec05",
   "metadata": {},
   "outputs": [
    {
     "name": "stdout",
     "output_type": "stream",
     "text": [
      "1\n",
      "3\n",
      "5\n",
      "7\n",
      "9\n"
     ]
    }
   ],
   "source": [
    "for i in range(1,10,2):\n",
    "    print(i)"
   ]
  },
  {
   "cell_type": "markdown",
   "id": "924811aa",
   "metadata": {},
   "source": [
    " ### Tuples in python ................... "
   ]
  },
  {
   "cell_type": "code",
   "execution_count": 154,
   "id": "69a966f8",
   "metadata": {},
   "outputs": [],
   "source": [
    "numbers = (1,2,3,4)"
   ]
  },
  {
   "cell_type": "code",
   "execution_count": 155,
   "id": "bb3e6ba3",
   "metadata": {},
   "outputs": [
    {
     "data": {
      "text/plain": [
       "(1, 2, 3, 4)"
      ]
     },
     "execution_count": 155,
     "metadata": {},
     "output_type": "execute_result"
    }
   ],
   "source": [
    "numbers"
   ]
  },
  {
   "cell_type": "code",
   "execution_count": 156,
   "id": "bf6a3747",
   "metadata": {},
   "outputs": [],
   "source": [
    "# tuples are immutable, you can't change it"
   ]
  },
  {
   "cell_type": "markdown",
   "id": "1ac19048",
   "metadata": {},
   "source": [
    "### ----- The End ----- "
   ]
  },
  {
   "cell_type": "code",
   "execution_count": null,
   "id": "b348aab0",
   "metadata": {},
   "outputs": [],
   "source": []
  }
 ],
 "metadata": {
  "kernelspec": {
   "display_name": "Python 3 (ipykernel)",
   "language": "python",
   "name": "python3"
  },
  "language_info": {
   "codemirror_mode": {
    "name": "ipython",
    "version": 3
   },
   "file_extension": ".py",
   "mimetype": "text/x-python",
   "name": "python",
   "nbconvert_exporter": "python",
   "pygments_lexer": "ipython3",
   "version": "3.11.0"
  }
 },
 "nbformat": 4,
 "nbformat_minor": 5
}
